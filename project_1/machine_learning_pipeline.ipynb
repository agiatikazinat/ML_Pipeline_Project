{
 "cells": [
  {
   "cell_type": "code",
   "execution_count": 37,
   "metadata": {},
   "outputs": [],
   "source": [
    "import findspark\n",
    "findspark.init()"
   ]
  },
  {
   "cell_type": "code",
   "execution_count": 53,
   "metadata": {},
   "outputs": [],
   "source": [
    "from pyspark.ml.feature import StringIndexer, StandardScaler,  VectorAssembler\n",
    "from pyspark.ml.regression import LinearRegression\n",
    "from pyspark.ml import Pipeline\n",
    "from pyspark.sql import SparkSession\n",
    "\n",
    "from pyspark.ml.evaluation import RegressionEvaluator"
   ]
  },
  {
   "cell_type": "code",
   "execution_count": 39,
   "metadata": {},
   "outputs": [],
   "source": [
    "spark = SparkSession.builder.appName(\"Machine Learning session\").getOrCreate()"
   ]
  },
  {
   "cell_type": "code",
   "execution_count": 40,
   "metadata": {},
   "outputs": [],
   "source": [
    "df = spark.read.parquet('mpg-cleaned.parquet')"
   ]
  },
  {
   "cell_type": "code",
   "execution_count": 41,
   "metadata": {},
   "outputs": [
    {
     "data": {
      "text/plain": [
       "385"
      ]
     },
     "execution_count": 41,
     "metadata": {},
     "output_type": "execute_result"
    }
   ],
   "source": [
    "rowcount = df.count()\n",
    "rowcount"
   ]
  },
  {
   "cell_type": "code",
   "execution_count": 42,
   "metadata": {},
   "outputs": [
    {
     "name": "stdout",
     "output_type": "stream",
     "text": [
      "+----+---------+-----------+----------+------+----------+----+--------+\n",
      "| MPG|Cylinders|Engine_Disp|Horsepower|Weight|Accelerate|Year|  Origin|\n",
      "+----+---------+-----------+----------+------+----------+----+--------+\n",
      "|24.0|        4|      134.0|        96|  2702|      13.5|  75|Japanese|\n",
      "|18.0|        6|      250.0|        88|  3139|      14.5|  71|American|\n",
      "|29.0|        4|       68.0|        49|  1867|      19.5|  73|European|\n",
      "|22.4|        6|      231.0|       110|  3415|      15.8|  81|American|\n",
      "|20.5|        6|      231.0|       105|  3425|      16.9|  77|American|\n",
      "+----+---------+-----------+----------+------+----------+----+--------+\n",
      "only showing top 5 rows\n",
      "\n"
     ]
    }
   ],
   "source": [
    "df.show(5)"
   ]
  },
  {
   "cell_type": "code",
   "execution_count": 43,
   "metadata": {},
   "outputs": [
    {
     "name": "stdout",
     "output_type": "stream",
     "text": [
      "root\n",
      " |-- MPG: double (nullable = true)\n",
      " |-- Cylinders: integer (nullable = true)\n",
      " |-- Engine_Disp: double (nullable = true)\n",
      " |-- Horsepower: integer (nullable = true)\n",
      " |-- Weight: integer (nullable = true)\n",
      " |-- Accelerate: double (nullable = true)\n",
      " |-- Year: integer (nullable = true)\n",
      " |-- Origin: string (nullable = true)\n",
      "\n"
     ]
    }
   ],
   "source": [
    "df.printSchema()"
   ]
  },
  {
   "cell_type": "code",
   "execution_count": 44,
   "metadata": {},
   "outputs": [],
   "source": [
    "indexer = StringIndexer(inputCol = 'Origin', outputCol = 'OriginIndex')"
   ]
  },
  {
   "cell_type": "code",
   "execution_count": 45,
   "metadata": {},
   "outputs": [],
   "source": [
    "assembler = VectorAssembler(inputCols = ['Cylinders', 'Engine_Disp', 'Horsepower', 'Weight', 'Accelerate', 'Year'], outputCol = 'features')"
   ]
  },
  {
   "cell_type": "code",
   "execution_count": 46,
   "metadata": {},
   "outputs": [],
   "source": [
    "scaler = StandardScaler(inputCol = 'features', outputCol = 'scaledFeatures', withMean = True, withStd = True)"
   ]
  },
  {
   "cell_type": "code",
   "execution_count": 47,
   "metadata": {},
   "outputs": [],
   "source": [
    "lr = LinearRegression(featuresCol = 'scaledFeatures',labelCol = \"MPG\")"
   ]
  },
  {
   "cell_type": "code",
   "execution_count": 48,
   "metadata": {},
   "outputs": [],
   "source": [
    "pipeline = Pipeline(stages = [indexer, assembler, scaler, lr])"
   ]
  },
  {
   "cell_type": "code",
   "execution_count": 49,
   "metadata": {},
   "outputs": [],
   "source": [
    "(training_data, testing_data) = df.randomSplit([0.7, 0.3], seed = 42)"
   ]
  },
  {
   "cell_type": "code",
   "execution_count": 50,
   "metadata": {},
   "outputs": [],
   "source": [
    "pipelineModel = pipeline.fit(training_data)"
   ]
  },
  {
   "cell_type": "code",
   "execution_count": 51,
   "metadata": {},
   "outputs": [],
   "source": [
    "predictions = pipelineModel.transform(testing_data)"
   ]
  },
  {
   "cell_type": "code",
   "execution_count": 52,
   "metadata": {},
   "outputs": [
    {
     "name": "stdout",
     "output_type": "stream",
     "text": [
      "+----+---------+-----------+----------+------+----------+----+--------+-----------+----------------------------------+---------------------------------------------------------------------------------------------------------------------+------------------+\n",
      "|MPG |Cylinders|Engine_Disp|Horsepower|Weight|Accelerate|Year|Origin  |OriginIndex|features                          |scaledFeatures                                                                                                       |prediction        |\n",
      "+----+---------+-----------+----------+------+----------+----+--------+-----------+----------------------------------+---------------------------------------------------------------------------------------------------------------------+------------------+\n",
      "|10.0|8        |360.0      |215       |4615  |14.0      |70  |American|0.0        |[8.0,360.0,215.0,4615.0,14.0,70.0]|[1.5745319883009272,1.7319454976406607,3.050166362711152,2.0931977237704493,-0.5832806936985389,-1.6716700791446575] |6.960764577508833 |\n",
      "|11.0|8        |429.0      |208       |4633  |11.0      |72  |American|0.0        |[8.0,429.0,208.0,4633.0,11.0,72.0]|[1.5745319883009272,2.4247721703271985,2.8601277611426896,2.115524983661212,-1.6802417907969576,-1.1309179063036614] |8.545911819810659 |\n",
      "|12.0|8        |350.0      |180       |4499  |12.5      |73  |American|0.0        |[8.0,350.0,180.0,4499.0,12.5,73.0]|[1.5745319883009272,1.6315358349324667,2.09997335486884,1.9493109378077538,-1.1317612422477483,-0.8605418198831634]  |10.226709705747316|\n",
      "|12.0|8        |383.0      |180       |4955  |11.5      |71  |American|0.0        |[8.0,383.0,180.0,4955.0,11.5,71.0]|[1.5745319883009272,1.9628877218695067,2.09997335486884,2.5149348550404187,-1.4974149412805546,-1.4012939927241594]  |5.446415257215236 |\n",
      "|13.0|8        |302.0      |129       |3169  |12.0      |75  |American|0.0        |[8.0,302.0,129.0,3169.0,12.0,75.0]|[1.5745319883009272,1.1495694539331363,0.7154064005843285,0.2995745125458152,-1.3145880917641515,-0.3197896470421673]|21.430212400588516|\n",
      "+----+---------+-----------+----------+------+----------+----+--------+-----------+----------------------------------+---------------------------------------------------------------------------------------------------------------------+------------------+\n",
      "only showing top 5 rows\n",
      "\n"
     ]
    }
   ],
   "source": [
    "predictions.show(5, truncate=False)"
   ]
  },
  {
   "cell_type": "code",
   "execution_count": 55,
   "metadata": {},
   "outputs": [
    {
     "name": "stdout",
     "output_type": "stream",
     "text": [
      "12.226745835567343\n"
     ]
    }
   ],
   "source": [
    "evaluator = RegressionEvaluator(labelCol = 'MPG', predictionCol='prediction', metricName='mse')\n",
    "mse = evaluator.evaluate(predictions)\n",
    "print(mse)"
   ]
  },
  {
   "cell_type": "code",
   "execution_count": 56,
   "metadata": {},
   "outputs": [
    {
     "name": "stdout",
     "output_type": "stream",
     "text": [
      "2.8457151130131373\n"
     ]
    }
   ],
   "source": [
    "evaluator = RegressionEvaluator(labelCol = 'MPG', predictionCol='prediction', metricName = 'mae')\n",
    "mae = evaluator.evaluate(predictions)\n",
    "print(mae)"
   ]
  },
  {
   "cell_type": "code",
   "execution_count": 57,
   "metadata": {},
   "outputs": [
    {
     "name": "stdout",
     "output_type": "stream",
     "text": [
      "0.8018737394896357\n"
     ]
    }
   ],
   "source": [
    "evaluator = RegressionEvaluator(labelCol = 'MPG', predictionCol='prediction', metricName='r2')\n",
    "r2 = evaluator.evaluate(predictions)\n",
    "print(r2)"
   ]
  },
  {
   "cell_type": "code",
   "execution_count": 58,
   "metadata": {},
   "outputs": [],
   "source": [
    "pipelineModel.write().overwrite().save('project_1_model')"
   ]
  },
  {
   "cell_type": "code",
   "execution_count": 59,
   "metadata": {},
   "outputs": [],
   "source": [
    "spark.stop()"
   ]
  },
  {
   "cell_type": "code",
   "execution_count": null,
   "metadata": {},
   "outputs": [],
   "source": []
  }
 ],
 "metadata": {
  "kernelspec": {
   "display_name": "myvenv",
   "language": "python",
   "name": "python3"
  },
  "language_info": {
   "codemirror_mode": {
    "name": "ipython",
    "version": 3
   },
   "file_extension": ".py",
   "mimetype": "text/x-python",
   "name": "python",
   "nbconvert_exporter": "python",
   "pygments_lexer": "ipython3",
   "version": "3.11.9"
  }
 },
 "nbformat": 4,
 "nbformat_minor": 2
}
