{
 "cells": [
  {
   "cell_type": "code",
   "execution_count": 1,
   "metadata": {},
   "outputs": [],
   "source": [
    "import findspark \n",
    "findspark.init()"
   ]
  },
  {
   "cell_type": "code",
   "execution_count": 10,
   "metadata": {},
   "outputs": [],
   "source": [
    "from pyspark.sql import  SparkSession\n",
    "from pyspark.ml.feature import  VectorAssembler, StandardScaler\n",
    "from pyspark.ml.pipeline import PipelineModel \n",
    "from pyspark.ml import Pipeline\n",
    "from pyspark.ml.evaluation import RegressionEvaluator\n",
    "from pyspark.ml.regression import LinearRegression\n"
   ]
  },
  {
   "cell_type": "code",
   "execution_count": 3,
   "metadata": {},
   "outputs": [],
   "source": [
    "spark = SparkSession.builder.appName('Machine Learning task').getOrCreate()"
   ]
  },
  {
   "cell_type": "code",
   "execution_count": 4,
   "metadata": {},
   "outputs": [],
   "source": [
    "cleaned_data = spark.read.parquet('NASA_airfoil_noise_cleaned.parquet', header = True, inferSchema = True)"
   ]
  },
  {
   "cell_type": "code",
   "execution_count": 5,
   "metadata": {},
   "outputs": [
    {
     "name": "stdout",
     "output_type": "stream",
     "text": [
      "Total number of rows in the cleaned dataset:  1499\n"
     ]
    }
   ],
   "source": [
    "rowCount = cleaned_data.count()\n",
    "print('Total number of rows in the cleaned dataset: ', rowCount)"
   ]
  },
  {
   "cell_type": "code",
   "execution_count": 6,
   "metadata": {},
   "outputs": [
    {
     "name": "stdout",
     "output_type": "stream",
     "text": [
      "+---------+-------------+-----------+------------------+-----------------------+------------------+\n",
      "|Frequency|AngleOfAttack|ChordLength|FreeStreamVelocity|SuctionSideDisplacement|SoundLevelDecibels|\n",
      "+---------+-------------+-----------+------------------+-----------------------+------------------+\n",
      "|4000     |3.0          |0.3048     |31.7              |0.00529514             |115.608           |\n",
      "|3150     |2.0          |0.2286     |31.7              |0.00372371             |121.527           |\n",
      "|2000     |7.3          |0.2286     |31.7              |0.0132672              |115.309           |\n",
      "|2000     |5.4          |0.1524     |71.3              |0.00401199             |131.111           |\n",
      "|500      |9.9          |0.1524     |71.3              |0.0193001              |131.279           |\n",
      "+---------+-------------+-----------+------------------+-----------------------+------------------+\n",
      "only showing top 5 rows\n",
      "\n"
     ]
    }
   ],
   "source": [
    "cleaned_data.show(5, truncate = False)"
   ]
  },
  {
   "cell_type": "code",
   "execution_count": 7,
   "metadata": {},
   "outputs": [],
   "source": [
    "assembler = VectorAssembler(inputCols= ['Frequency', 'AngleOfAttack', 'ChordLength', 'FreeStreamVelocity', 'SuctionSideDisplacement'], outputCol = 'features')"
   ]
  },
  {
   "cell_type": "code",
   "execution_count": 8,
   "metadata": {},
   "outputs": [],
   "source": [
    "scaler = StandardScaler(inputCol = 'features', outputCol = 'scaledFeatures', withStd = True, withMean = True)"
   ]
  },
  {
   "cell_type": "code",
   "execution_count": 9,
   "metadata": {},
   "outputs": [],
   "source": [
    "lr = LinearRegression(labelCol = 'SoundLevelDecibels', featuresCol = 'scaledFeatures')"
   ]
  },
  {
   "cell_type": "code",
   "execution_count": 11,
   "metadata": {},
   "outputs": [],
   "source": [
    "pipeline = Pipeline(stages = [assembler, scaler, lr])"
   ]
  },
  {
   "cell_type": "code",
   "execution_count": 12,
   "metadata": {},
   "outputs": [],
   "source": [
    "(training_data, testing_data) = cleaned_data.randomSplit([0.7, 0.3], seed = 42)"
   ]
  },
  {
   "cell_type": "code",
   "execution_count": 13,
   "metadata": {},
   "outputs": [],
   "source": [
    "model = pipeline.fit(training_data)"
   ]
  },
  {
   "cell_type": "code",
   "execution_count": 14,
   "metadata": {},
   "outputs": [],
   "source": [
    "predictions = model.transform(testing_data)"
   ]
  },
  {
   "cell_type": "code",
   "execution_count": 15,
   "metadata": {},
   "outputs": [
    {
     "name": "stdout",
     "output_type": "stream",
     "text": [
      "+---------+-------------+-----------+------------------+-----------------------+------------------+----------------------------------+-----------------------------------------------------------------------------------------------------+------------------+\n",
      "|Frequency|AngleOfAttack|ChordLength|FreeStreamVelocity|SuctionSideDisplacement|SoundLevelDecibels|features                          |scaledFeatures                                                                                       |prediction        |\n",
      "+---------+-------------+-----------+------------------+-----------------------+------------------+----------------------------------+-----------------------------------------------------------------------------------------------------+------------------+\n",
      "|200      |7.3          |0.2286     |31.7              |0.0132672              |128.679           |[200.0,7.3,0.2286,31.7,0.0132672] |[-0.8492530428836075,0.08701196802079204,0.9780751308754603,-1.2352001929432386,0.16170883833778346] |122.59722914376381|\n",
      "|200      |8.9          |0.1016     |39.6              |0.0124596              |133.42            |[200.0,8.9,0.1016,39.6,0.0124596] |[-0.8492530428836075,0.3570142277802232,-0.38125422925314906,-0.7286847806693129,0.10006969626583007]|127.37968204568345|\n",
      "|200      |9.5          |0.0254     |31.7              |0.00461377             |119.146           |[200.0,9.5,0.0254,31.7,0.00461377]|[-0.8492530428836075,0.45826507519000975,-1.1968518453303145,-1.2352001929432386,-0.4987542636677928]|130.3407742507346 |\n",
      "|200      |9.5          |0.0254     |39.6              |0.00449821             |116.074           |[200.0,9.5,0.0254,39.6,0.00449821]|[-0.8492530428836075,0.45826507519000975,-1.1968518453303145,-0.7286847806693129,-0.5075742478899757]|131.11016975112733|\n",
      "|200      |9.9          |0.1524     |71.3              |0.0193001              |134.319           |[200.0,9.9,0.1524,71.3,0.0193001] |[-0.8492530428836075,0.5257656401298676,0.1624775147982948,1.3037884559235282,0.6221629990682038]    |127.1262736012578 |\n",
      "+---------+-------------+-----------+------------------+-----------------------+------------------+----------------------------------+-----------------------------------------------------------------------------------------------------+------------------+\n",
      "only showing top 5 rows\n",
      "\n"
     ]
    }
   ],
   "source": [
    "predictions.show(5, truncate=False)"
   ]
  },
  {
   "cell_type": "code",
   "execution_count": 16,
   "metadata": {},
   "outputs": [
    {
     "name": "stdout",
     "output_type": "stream",
     "text": [
      "MSE:  24.997666255020174\n"
     ]
    }
   ],
   "source": [
    "evaluator = RegressionEvaluator(predictionCol='prediction', labelCol = 'SoundLevelDecibels', metricName='mse')\n",
    "mse = evaluator.evaluate(predictions)\n",
    "print(\"MSE: \", mse)"
   ]
  },
  {
   "cell_type": "code",
   "execution_count": 17,
   "metadata": {},
   "outputs": [
    {
     "name": "stdout",
     "output_type": "stream",
     "text": [
      "MAE:  3.913679095881314\n"
     ]
    }
   ],
   "source": [
    "evaluator = RegressionEvaluator(predictionCol = 'prediction', labelCol = 'SoundLevelDecibels', metricName='mae')\n",
    "mae = evaluator.evaluate(predictions)\n",
    "print('MAE: ', mae)"
   ]
  },
  {
   "cell_type": "code",
   "execution_count": 18,
   "metadata": {},
   "outputs": [
    {
     "name": "stdout",
     "output_type": "stream",
     "text": [
      "R2 Score:  0.4959688408975431\n"
     ]
    }
   ],
   "source": [
    "evaluator = RegressionEvaluator(predictionCol='prediction', labelCol = 'SoundLevelDecibels', metricName='r2')\n",
    "r2 = evaluator.evaluate(predictions)\n",
    "print('R2 Score: ', r2)"
   ]
  },
  {
   "cell_type": "code",
   "execution_count": 19,
   "metadata": {},
   "outputs": [],
   "source": [
    "model.write().overwrite().save('project_2_model')"
   ]
  },
  {
   "cell_type": "code",
   "execution_count": 20,
   "metadata": {},
   "outputs": [],
   "source": [
    "spark.stop()"
   ]
  },
  {
   "cell_type": "code",
   "execution_count": null,
   "metadata": {},
   "outputs": [],
   "source": []
  }
 ],
 "metadata": {
  "kernelspec": {
   "display_name": "myvenv",
   "language": "python",
   "name": "python3"
  },
  "language_info": {
   "codemirror_mode": {
    "name": "ipython",
    "version": 3
   },
   "file_extension": ".py",
   "mimetype": "text/x-python",
   "name": "python",
   "nbconvert_exporter": "python",
   "pygments_lexer": "ipython3",
   "version": "3.11.9"
  }
 },
 "nbformat": 4,
 "nbformat_minor": 2
}
